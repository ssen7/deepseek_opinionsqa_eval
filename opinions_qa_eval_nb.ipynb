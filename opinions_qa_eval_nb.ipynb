{
 "cells": [
  {
   "cell_type": "markdown",
   "id": "f3aaac81",
   "metadata": {},
   "source": [
    "# 1. Generate Prompt from Opinions QA dataset"
   ]
  },
  {
   "cell_type": "code",
   "execution_count": 1,
   "id": "7f978705",
   "metadata": {},
   "outputs": [
    {
     "name": "stdout",
     "output_type": "stream",
     "text": [
      "Context: default \n",
      "Survey file: Pew_American_Trends_Panel_W26\n"
     ]
    },
    {
     "data": {
      "text/plain": [
       "78"
      ]
     },
     "execution_count": 1,
     "metadata": {},
     "output_type": "execute_result"
    }
   ],
   "source": [
    "from process_opinions_qa import generate_prompt\n",
    "from helper import generate_responses_logprobs,get_reasoning_response\n",
    "import random\n",
    "import yaml\n",
    "import os\n",
    "\n",
    "# read yaml file\n",
    "# change survey_type and context in config.yaml file for different types of prompts as described in the paper\n",
    "with open('config.yaml') as file:\n",
    "    config = yaml.safe_load(file)\n",
    "\n",
    "manual=True # use config file if False, set manually if True\n",
    "if manual:\n",
    "    config=dict()\n",
    "    config['prompt']=dict()\n",
    "    config['prompt']['context']='default' # values: default, steer-qa, steer-bio, steer-portray\n",
    "    config['prompt']['survey_type']='Pew_American_Trends_Panel_W26' # values: Pew_American_Trends_Panel_disagreement_500,Pew_American_Trends_Panel_W26, replace 26 with the [26,27,29,32..] etc.\n",
    "    config['prompt']['output_path']='./'\n",
    "    config['prompt']['include_output']=False\n",
    "    config['prompt']['reference_index']=None\n",
    "    config['do_reasoning']=False\n",
    "    config['n_trials']=1\n",
    "    \n",
    "print(f\"Context: {config['prompt']['context']} \\nSurvey file: {config['prompt']['survey_type']}\")\n",
    "\n",
    "train, evals, question_dict=generate_prompt(config)\n",
    "\n",
    "if (len(train)>1):\n",
    "    prompts=[x+'\\n'+y for x,y in zip(train, evals)]\n",
    "else:\n",
    "    prompts=evals\n",
    "\n",
    "len(prompts)"
   ]
  },
  {
   "cell_type": "markdown",
   "id": "c0f59202",
   "metadata": {},
   "source": [
    "# 2. Load DeepSeek"
   ]
  },
  {
   "cell_type": "code",
   "execution_count": 2,
   "id": "c4a65621",
   "metadata": {},
   "outputs": [
    {
     "data": {
      "application/vnd.jupyter.widget-view+json": {
       "model_id": "23005eeb47d14d57a3b4b6ee7c8b0d54",
       "version_major": 2,
       "version_minor": 0
      },
      "text/plain": [
       "Loading checkpoint shards:   0%|          | 0/2 [00:00<?, ?it/s]"
      ]
     },
     "metadata": {},
     "output_type": "display_data"
    }
   ],
   "source": [
    "# ref: https://gist.github.com/vgel/8a2497dc45b1ded33287fa7bb6cc1adc\n",
    "from transformers import AutoModelForCausalLM, AutoTokenizer, DynamicCache\n",
    "from tqdm.notebook import tqdm\n",
    "import torch\n",
    "\n",
    "device=torch.device('cuda') if torch.cuda.is_available() else torch.device('cpu')\n",
    "\n",
    "model_name='deepseek-ai/DeepSeek-R1-Distill-Qwen-7B'\n",
    "tokenizer = AutoTokenizer.from_pretrained(model_name)\n",
    "\n",
    "model = AutoModelForCausalLM.from_pretrained('/scratch/ss4yd/huggingfacemodels/DeepSeek-R1-Distill-Qwen-7B/', \n",
    "                                             torch_dtype=torch.bfloat16, device_map='auto')"
   ]
  },
  {
   "cell_type": "markdown",
   "id": "d3bdf677",
   "metadata": {},
   "source": [
    "# 3. Generate logprobs"
   ]
  },
  {
   "cell_type": "code",
   "execution_count": 3,
   "id": "7e49b0b6",
   "metadata": {
    "scrolled": true
   },
   "outputs": [
    {
     "data": {
      "application/vnd.jupyter.widget-view+json": {
       "model_id": "cdb9a0e96e5f4971a27a3c48afaaae91",
       "version_major": 2,
       "version_minor": 0
      },
      "text/plain": [
       "Trial:   0%|          | 0/1 [00:00<?, ?it/s]"
      ]
     },
     "metadata": {},
     "output_type": "display_data"
    },
    {
     "data": {
      "application/vnd.jupyter.widget-view+json": {
       "model_id": "fe9278e3bc5a438792582832401fa2fe",
       "version_major": 2,
       "version_minor": 0
      },
      "text/plain": [
       "  0%|          | 0/78 [00:00<?, ?it/s]"
      ]
     },
     "metadata": {},
     "output_type": "display_data"
    },
    {
     "name": "stderr",
     "output_type": "stream",
     "text": [
      "From v4.47 onwards, when a model cache is to be returned, `generate` will return a `Cache` instance instead by default (as opposed to the legacy tuple of tuples format). If you want to keep returning the legacy format, please set `return_legacy_cache=True`.\n"
     ]
    }
   ],
   "source": [
    "reasoning_responses=list()\n",
    "reasoning_logprobs=list()\n",
    "input_ids=list()\n",
    "for i in tqdm(range(config['n_trials']), desc='Trial'): \n",
    "    in_prompts=prompts[i*int(len(prompts)/config['n_trials']):(i+1)*int(len(prompts)/config['n_trials'])]\n",
    "    # get logprobs and reasoning responses\n",
    "    # Note: reasoning responses take longer to run, toggle to True in config if required.\n",
    "    for j,prompt in enumerate(tqdm(in_prompts)):\n",
    "        input_ids+=[f'id_trial{i}_n{j}']\n",
    "        reasoning_logprobs.append(generate_responses_logprobs(prompt, model, tokenizer)['top_k_logprobs'])\n",
    "        if config['do_reasoning']:\n",
    "            reasoning_responses.append(get_reasoning_response(prompt, model, tokenizer, if_print=False))"
   ]
  },
  {
   "cell_type": "markdown",
   "id": "da4d5599",
   "metadata": {},
   "source": [
    "# 4. Generate dataframe"
   ]
  },
  {
   "cell_type": "code",
   "execution_count": 4,
   "id": "c95eb76f",
   "metadata": {},
   "outputs": [],
   "source": [
    "import pandas as pd\n",
    "df=pd.DataFrame()\n",
    "df['input_ids']=input_ids\n",
    "df['question']=question_dict['eval']['question']\n",
    "df['question_raw']=question_dict['eval']['question_raw']\n",
    "df['references']=question_dict['eval']['references']\n",
    "df['mapping']=question_dict['eval']['mapping']\n",
    "df['top_k_logprobs']=reasoning_logprobs\n",
    "df['top_k_logprobs'][0]\n",
    "if len(reasoning_responses)==len(input_ids): # check if reasoning response list is not empty\n",
    "    df['reasoning_responses']=reasoning_responses\n",
    "if len(train)>0:\n",
    "    df['context']=train\n",
    "df['prompt']=prompts"
   ]
  },
  {
   "cell_type": "markdown",
   "id": "5232515a",
   "metadata": {},
   "source": [
    "# 5. Save as SQLite3 Database"
   ]
  },
  {
   "cell_type": "code",
   "execution_count": 5,
   "id": "1ecb815d",
   "metadata": {},
   "outputs": [],
   "source": [
    "import sqlite3\n",
    "\n",
    "model_output_dir=f\"./model_outs/opinions_qa:survey={config['prompt']['survey_type']},context={config['prompt']['context']}\"\n",
    "os.makedirs(model_output_dir, exist_ok=True)\n",
    "db_path=os.path.join(model_output_dir, 'model_output.sqlite')\n",
    "conn = sqlite3.connect(db_path)\n",
    "df=df.astype(str)\n",
    "# Store the DataFrame in the SQLite database\n",
    "df.to_sql('results', conn, if_exists='replace', index=False)\n",
    "# Close the connection\n",
    "conn.close()"
   ]
  },
  {
   "cell_type": "markdown",
   "id": "b34bdb11",
   "metadata": {},
   "source": [
    "# 7. (optional) save as CSV file"
   ]
  },
  {
   "cell_type": "code",
   "execution_count": 6,
   "id": "1d68d798",
   "metadata": {},
   "outputs": [],
   "source": [
    "df.to_csv(f\"./model_outs/opinions_qa:survey={config['prompt']['survey_type']},context={config['prompt']['context']}.csv\", index=False)"
   ]
  }
 ],
 "metadata": {
  "kernelspec": {
   "display_name": "Python 3",
   "language": "python",
   "name": "python3"
  },
  "language_info": {
   "codemirror_mode": {
    "name": "ipython",
    "version": 3
   },
   "file_extension": ".py",
   "mimetype": "text/x-python",
   "name": "python",
   "nbconvert_exporter": "python",
   "pygments_lexer": "ipython3",
   "version": "3.11.4"
  }
 },
 "nbformat": 4,
 "nbformat_minor": 5
}
